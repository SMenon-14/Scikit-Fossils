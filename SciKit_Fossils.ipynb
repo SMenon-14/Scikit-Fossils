{
  "nbformat": 4,
  "nbformat_minor": 0,
  "metadata": {
    "colab": {
      "name": "SciKit_Fossils.ipynb",
      "provenance": [],
      "authorship_tag": "ABX9TyNCyGrRUj3vbfLhULE1CloC",
      "include_colab_link": true
    },
    "kernelspec": {
      "name": "python3",
      "display_name": "Python 3"
    },
    "language_info": {
      "name": "python"
    }
  },
  "cells": [
    {
      "cell_type": "markdown",
      "metadata": {
        "id": "view-in-github",
        "colab_type": "text"
      },
      "source": [
        "<a href=\"https://colab.research.google.com/github/SMenon-14/Scikit-Fossils/blob/main/SciKit_Fossils.ipynb\" target=\"_parent\"><img src=\"https://colab.research.google.com/assets/colab-badge.svg\" alt=\"Open In Colab\"/></a>"
      ]
    },
    {
      "cell_type": "code",
      "execution_count": null,
      "metadata": {
        "id": "ee1mOps9j75c"
      },
      "outputs": [],
      "source": [
        "from sklearn import svm\n",
        "import pandas as pd\n",
        "import math"
      ]
    },
    {
      "cell_type": "code",
      "source": [
        "#Connect to Google Drive\n",
        "from google.colab import drive\n",
        "drive.mount ('/content/gdrive',force_remount=True)"
      ],
      "metadata": {
        "colab": {
          "base_uri": "https://localhost:8080/"
        },
        "id": "cxPKIDy2ksea",
        "outputId": "9658f08f-575b-4d63-95ff-0e1e293b81ed"
      },
      "execution_count": null,
      "outputs": [
        {
          "output_type": "stream",
          "name": "stdout",
          "text": [
            "Mounted at /content/gdrive\n"
          ]
        }
      ]
    },
    {
      "cell_type": "code",
      "source": [
        "# Steve Brusatte Original Data: https://www.science.org/doi/suppl/10.1126/science.1161833/suppl_file/brusatte.som.pdf\n",
        "data = pd.read_csv('/content/gdrive/My Drive/SciKit Learn/fossil_classes_2.csv')\n",
        "data.head(6)"
      ],
      "metadata": {
        "id": "A4mBAVvgkA-U"
      },
      "execution_count": null,
      "outputs": []
    },
    {
      "cell_type": "code",
      "source": [
        "def preprocess(data):\n",
        "    X = data.iloc[:, 1:41]  # all rows, all the features and no labels\n",
        "    y = data.iloc[:, 41]  # all rows, label only\n",
        "\n",
        "    return X, y"
      ],
      "metadata": {
        "id": "Hk_6EeHdlBmt"
      },
      "execution_count": null,
      "outputs": []
    },
    {
      "cell_type": "code",
      "source": [
        "from sklearn.model_selection import train_test_split\n",
        "\n",
        "all_X, all_y = preprocess(data)\n",
        "X_train, X_test, y_train, y_test = train_test_split(all_X, all_y)"
      ],
      "metadata": {
        "id": "5wZ0jBlkkF_j"
      },
      "execution_count": null,
      "outputs": []
    },
    {
      "cell_type": "code",
      "source": [
        "print(X_train.shape, X_test.shape, y_train.shape, y_test.shape)"
      ],
      "metadata": {
        "id": "ezYC07J-lvFk"
      },
      "execution_count": null,
      "outputs": []
    },
    {
      "cell_type": "code",
      "source": [
        "clf = svm.SVC()\n",
        "clf.fit(X_train, y_train)  "
      ],
      "metadata": {
        "id": "k7exSazAlzuS"
      },
      "execution_count": null,
      "outputs": []
    },
    {
      "cell_type": "code",
      "source": [
        "clf.score(X_test, y_test)\n",
        "# Low due to small (not varied enough) data set"
      ],
      "metadata": {
        "id": "SV-vh4Uol6__"
      },
      "execution_count": null,
      "outputs": []
    },
    {
      "cell_type": "code",
      "source": [
        "clf.predict(X_test[0:15])"
      ],
      "metadata": {
        "id": "mq-ssrvgl9FI"
      },
      "execution_count": null,
      "outputs": []
    },
    {
      "cell_type": "code",
      "source": [
        "y_test[0:15]"
      ],
      "metadata": {
        "id": "8o95XZ0Gl_Pf"
      },
      "execution_count": null,
      "outputs": []
    }
  ]
}